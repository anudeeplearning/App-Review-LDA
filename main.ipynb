{
 "cells": [
  {
   "cell_type": "code",
   "execution_count": 1,
   "metadata": {
    "colab": {
     "base_uri": "https://localhost:8080/",
     "height": 193
    },
    "colab_type": "code",
    "id": "FwE2W59Jj3Yl",
    "outputId": "63679ba0-f522-47c6-a0f1-24ed5d916a66"
   },
   "outputs": [
    {
     "name": "stdout",
     "output_type": "stream",
     "text": [
      "Collecting app-store-scraper"
     ]
    },
    {
     "name": "stderr",
     "output_type": "stream",
     "text": [
      "WARNING: You are using pip version 19.2.3, however version 20.2.2 is available.\n",
      "You should consider upgrading via the 'python -m pip install --upgrade pip' command.\n"
     ]
    },
    {
     "name": "stdout",
     "output_type": "stream",
     "text": [
      "\n",
      "  Downloading https://files.pythonhosted.org/packages/9b/c9/d0c1a06fb2ecceab5c1452ca894195874d3ba695ac915cc499d4d61e1d98/app_store_scraper-0.3.0-py3-none-any.whl\n",
      "Requirement already satisfied: requests==2.23.0 in c:\\users\\abcd\\appdata\\local\\programs\\python\\python38\\lib\\site-packages (from app-store-scraper) (2.23.0)\n",
      "Requirement already satisfied: idna<3,>=2.5 in c:\\users\\abcd\\appdata\\local\\programs\\python\\python38\\lib\\site-packages (from requests==2.23.0->app-store-scraper) (2.9)\n",
      "Requirement already satisfied: chardet<4,>=3.0.2 in c:\\users\\abcd\\appdata\\local\\programs\\python\\python38\\lib\\site-packages (from requests==2.23.0->app-store-scraper) (3.0.4)\n",
      "Requirement already satisfied: certifi>=2017.4.17 in c:\\users\\abcd\\appdata\\local\\programs\\python\\python38\\lib\\site-packages (from requests==2.23.0->app-store-scraper) (2020.4.5.1)\n",
      "Requirement already satisfied: urllib3!=1.25.0,!=1.25.1,<1.26,>=1.21.1 in c:\\users\\abcd\\appdata\\local\\programs\\python\\python38\\lib\\site-packages (from requests==2.23.0->app-store-scraper) (1.25.9)\n",
      "Installing collected packages: app-store-scraper\n",
      "Successfully installed app-store-scraper-0.3.0\n"
     ]
    }
   ],
   "source": [
    "!pip install app-store-scraper"
   ]
  },
  {
   "cell_type": "code",
   "execution_count": 7,
   "metadata": {},
   "outputs": [
    {
     "name": "stdout",
     "output_type": "stream",
     "text": [
      "Collecting google-play-scraper\n",
      "  Downloading https://files.pythonhosted.org/packages/29/b5/560ff4472c33285b91af435815c7e9cff4c2acc01620fd0f80a59d71e345/google-play-scraper-0.1.1.tar.gz (49kB)\n",
      "Building wheels for collected packages: google-play-scraper\n",
      "  Building wheel for google-play-scraper (setup.py): started\n",
      "  Building wheel for google-play-scraper (setup.py): finished with status 'done'\n",
      "  Created wheel for google-play-scraper: filename=google_play_scraper-0.1.1-cp38-none-any.whl size=22265 sha256=49be3848e75133f4d20ffbb5fb525447c3943caf40ebb78f9e73d17de4d68f94\n",
      "  Stored in directory: C:\\Users\\ABCD\\AppData\\Local\\pip\\Cache\\wheels\\d7\\1f\\71\\e2b30aab85297ad6dd2e3049587a6763cfb7e803a0b76d982e\n",
      "Successfully built google-play-scraper\n",
      "Installing collected packages: google-play-scraper\n",
      "Successfully installed google-play-scraper-0.1.1\n"
     ]
    },
    {
     "name": "stderr",
     "output_type": "stream",
     "text": [
      "WARNING: You are using pip version 19.2.3, however version 20.2.2 is available.\n",
      "You should consider upgrading via the 'python -m pip install --upgrade pip' command.\n"
     ]
    }
   ],
   "source": [
    "!pip install google-play-scraper"
   ]
  },
  {
   "cell_type": "code",
   "execution_count": 3,
   "metadata": {
    "colab": {},
    "colab_type": "code",
    "id": "P07xG3pGkPVU"
   },
   "outputs": [],
   "source": [
    "from app_store_scraper import AppStore\n",
    "from pprint import pprint"
   ]
  },
  {
   "cell_type": "code",
   "execution_count": 4,
   "metadata": {
    "colab": {},
    "colab_type": "code",
    "id": "sKfHMs0rp-dg"
   },
   "outputs": [
    {
     "name": "stderr",
     "output_type": "stream",
     "text": [
      "2020-09-02 08:47:00,457 [INFO] AppStore - Initialised: AppStore('us', 'fordpass', 1095418609)\n",
      "2020-09-02 08:47:00,459 [INFO] AppStore - Ready to fetch reviews from: https://apps.apple.com/us/app/fordpass/id1095418609\n",
      "2020-09-02 08:47:05,614 [INFO] AppStore - [id:1095418609] Fetched 260 reviews (260 fetched in total)\n",
      "2020-09-02 08:47:11,164 [INFO] AppStore - [id:1095418609] Fetched 540 reviews (540 fetched in total)\n",
      "2020-09-02 08:47:16,744 [INFO] AppStore - [id:1095418609] Fetched 820 reviews (820 fetched in total)\n",
      "2020-09-02 08:47:22,297 [INFO] AppStore - [id:1095418609] Fetched 1100 reviews (1100 fetched in total)\n",
      "2020-09-02 08:47:28,091 [INFO] AppStore - [id:1095418609] Fetched 1400 reviews (1400 fetched in total)\n",
      "2020-09-02 08:47:33,548 [INFO] AppStore - [id:1095418609] Fetched 1680 reviews (1680 fetched in total)\n",
      "2020-09-02 08:47:39,309 [INFO] AppStore - [id:1095418609] Fetched 1980 reviews (1980 fetched in total)\n",
      "2020-09-02 08:47:44,883 [INFO] AppStore - [id:1095418609] Fetched 2260 reviews (2260 fetched in total)\n",
      "2020-09-02 08:47:50,421 [INFO] AppStore - [id:1095418609] Fetched 2540 reviews (2540 fetched in total)\n",
      "2020-09-02 08:47:55,993 [INFO] AppStore - [id:1095418609] Fetched 2820 reviews (2820 fetched in total)\n",
      "2020-09-02 08:48:01,524 [INFO] AppStore - [id:1095418609] Fetched 3100 reviews (3100 fetched in total)\n",
      "2020-09-02 08:48:07,267 [INFO] AppStore - [id:1095418609] Fetched 3380 reviews (3380 fetched in total)\n",
      "2020-09-02 08:48:12,901 [INFO] AppStore - [id:1095418609] Fetched 3660 reviews (3660 fetched in total)\n",
      "2020-09-02 08:48:18,557 [INFO] AppStore - [id:1095418609] Fetched 3940 reviews (3940 fetched in total)\n",
      "2020-09-02 08:48:24,113 [INFO] AppStore - [id:1095418609] Fetched 4220 reviews (4220 fetched in total)\n",
      "2020-09-02 08:48:29,713 [INFO] AppStore - [id:1095418609] Fetched 4500 reviews (4500 fetched in total)\n",
      "2020-09-02 08:48:30,572 [INFO] AppStore - [id:1095418609] Fetched 4523 reviews (4523 fetched in total)\n"
     ]
    }
   ],
   "source": [
    "ford = AppStore(country=\"us\",app_name='FordPass', app_id=1095418609)\n",
    "revs=ford .review()\n",
    "reviews_list=[rev['review'] for rev in ford.reviews]"
   ]
  },
  {
   "cell_type": "code",
   "execution_count": 8,
   "metadata": {
    "colab": {
     "base_uri": "https://localhost:8080/",
     "height": 225
    },
    "colab_type": "code",
    "id": "aImY6tITve8J",
    "outputId": "7ec4423b-a234-4727-ea4d-a8f29762e301"
   },
   "outputs": [],
   "source": [
    "from google_play_scraper import app\n",
    "from google_play_scraper import Sort,reviews_all\n",
    "result = reviews_all('com.ford.fordpass')"
   ]
  },
  {
   "cell_type": "code",
   "execution_count": 9,
   "metadata": {},
   "outputs": [
    {
     "data": {
      "text/plain": [
       "4523"
      ]
     },
     "execution_count": 9,
     "metadata": {},
     "output_type": "execute_result"
    }
   ],
   "source": [
    "import pandas as pd\n",
    "import re\n",
    "import nltk\n",
    "tokenizer = nltk.tokenize.TreebankWordTokenizer()\n",
    "stemmer = nltk.stem.SnowballStemmer(\"english\")\n",
    "data_text= [x.lower() for x in reviews_list]\n",
    "data_n = [re.sub('[,\\.!?]', '',x) for x in data_text]\n",
    "data_n = [(\" \".join(stemmer.stem(token) for token in tokenizer.tokenize(review))) for review in data_n]\n",
    "len(data_n)"
   ]
  },
  {
   "cell_type": "code",
   "execution_count": 10,
   "metadata": {
    "colab": {
     "base_uri": "https://localhost:8080/",
     "height": 671
    },
    "colab_type": "code",
    "id": "aocLbYH_tGSH",
    "outputId": "c92d9324-6913-4590-8cde-e20457825a35"
   },
   "outputs": [
    {
     "data": {
      "image/png": "[encoded data removed]",
      "text/plain": [
       "<Figure size 1080x667.491 with 1 Axes>"
      ]
     },
     "metadata": {},
     "output_type": "display_data"
    },
    {
     "data": {
      "text/plain": [
       "<Figure size 432x288 with 0 Axes>"
      ]
     },
     "metadata": {},
     "output_type": "display_data"
    }
   ],
   "source": [
    "# Load the library with the CountVectorizer method\n",
    "from sklearn.feature_extraction.text import CountVectorizer\n",
    "import numpy as np\n",
    "import matplotlib.pyplot as plt\n",
    "import seaborn as sns\n",
    "sns.set_style('whitegrid')\n",
    "#%matplotlib inline\n",
    "# Helper function\n",
    "def plot_10_most_common_words(count_data, count_vectorizer):\n",
    "    import matplotlib.pyplot as plt\n",
    "    words = count_vectorizer.get_feature_names()\n",
    "    total_counts = np.zeros(len(words))\n",
    "    for t in count_data:\n",
    "        total_counts+=t.toarray()[0]\n",
    "    \n",
    "    count_dict = (zip(words, total_counts))\n",
    "    count_dict = sorted(count_dict, key=lambda x:x[1], reverse=True)[0:10]\n",
    "    words = [w[0] for w in count_dict]\n",
    "    counts = [w[1] for w in count_dict]\n",
    "    x_pos = np.arange(len(words)) \n",
    "    \n",
    "    plt.figure(2, figsize=(15, 15/1.6180))\n",
    "    plt.subplot(title='10 most common words')\n",
    "    sns.set_context(\"notebook\", font_scale=1.25, rc={\"lines.linewidth\": 2.5})\n",
    "    sns.barplot(x_pos, counts, palette='husl')\n",
    "    plt.xticks(x_pos, words, rotation=90) \n",
    "    plt.xlabel('words')\n",
    "    plt.ylabel('counts')\n",
    "    plt.show()\n",
    "    plt.savefig(\"common_words.png\")\n",
    "# Initialise the count vectorizer with the English stop words\n",
    "#additional_stopwords=('app','toyota','car','just')\n",
    "count_vectorizer = CountVectorizer(stop_words='english')\n",
    "# Fit and transform the processed titles\n",
    "count_data = count_vectorizer.fit_transform(data_n)\n",
    "# Visualise the 10 most common words\n",
    "plot_10_most_common_words(count_data, count_vectorizer)"
   ]
  },
  {
   "cell_type": "code",
   "execution_count": 11,
   "metadata": {
    "colab": {
     "base_uri": "https://localhost:8080/",
     "height": 295
    },
    "colab_type": "code",
    "id": "ZKD7V38XuS_Z",
    "outputId": "046a3402-495d-463c-ba76-f1ed21c1a7fb"
   },
   "outputs": [
    {
     "name": "stdout",
     "output_type": "stream",
     "text": [
      "Topics found via LDA:\n",
      "\n",
      "Topic #0:\n",
      "app ford use car sync vehicl tire connect doe password\n",
      "\n",
      "Topic #1:\n",
      "app work updat open crash time use fix tri everi\n",
      "\n",
      "Topic #2:\n",
      "app ford time use vehicl work log password veri tri\n",
      "\n",
      "Topic #3:\n",
      "start app car remot work time lock unlock featur use\n",
      "\n",
      "Topic #4:\n",
      "ford app vehicl servic work love truck new great use\n"
     ]
    }
   ],
   "source": [
    "import warnings\n",
    "warnings.simplefilter(\"ignore\", DeprecationWarning)\n",
    "# Load the LDA model from sk-learn\n",
    "from sklearn.decomposition import LatentDirichletAllocation as LDA\n",
    " \n",
    "# Helper function\n",
    "def print_topics(model, count_vectorizer, n_top_words):\n",
    "    words = count_vectorizer.get_feature_names()\n",
    "    for topic_idx, topic in enumerate(model.components_):\n",
    "        print(\"\\nTopic #%d:\" % topic_idx)\n",
    "        print(\" \".join([words[i]\n",
    "                        for i in topic.argsort()[:-n_top_words - 1:-1]]))\n",
    "        \n",
    "# Tweak the two parameters below\n",
    "number_topics = 5\n",
    "number_words = 10\n",
    "# Create and fit the LDA model\n",
    "lda = LDA(n_components=number_topics, n_jobs=-1)\n",
    "lda.fit(count_data)\n",
    "# Print the topics found by the LDA model\n",
    "print(\"Topics found via LDA:\")\n",
    "print_topics(lda, count_vectorizer, number_words)"
   ]
  },
  {
   "cell_type": "code",
   "execution_count": null,
   "metadata": {
    "colab": {
     "base_uri": "https://localhost:8080/",
     "height": 644
    },
    "colab_type": "code",
    "id": "BVyFsLEuullV",
    "outputId": "6bbab6f0-23ac-48d3-d8a1-3e8b732b32de"
   },
   "outputs": [
    {
     "name": "stdout",
     "output_type": "stream",
     "text": [
      "Collecting pyLDAvis\n",
      "\u001b[?25l  Downloading https://files.pythonhosted.org/packages/a5/3a/af82e070a8a96e13217c8f362f9a73e82d61ac8fff3a2561946a97f96266/pyLDAvis-2.1.2.tar.gz (1.6MB)\n",
      "\u001b[K     |████████████████████████████████| 1.6MB 5.8MB/s \n",
      "\u001b[?25hRequirement already satisfied: wheel>=0.23.0 in /usr/local/lib/python3.6/dist-packages (from pyLDAvis) (0.34.2)\n",
      "Requirement already satisfied: numpy>=1.9.2 in /usr/local/lib/python3.6/dist-packages (from pyLDAvis) (1.18.5)\n",
      "Requirement already satisfied: scipy>=0.18.0 in /usr/local/lib/python3.6/dist-packages (from pyLDAvis) (1.4.1)\n",
      "Requirement already satisfied: pandas>=0.17.0 in /usr/local/lib/python3.6/dist-packages (from pyLDAvis) (1.0.5)\n",
      "Requirement already satisfied: joblib>=0.8.4 in /usr/local/lib/python3.6/dist-packages (from pyLDAvis) (0.16.0)\n",
      "Requirement already satisfied: jinja2>=2.7.2 in /usr/local/lib/python3.6/dist-packages (from pyLDAvis) (2.11.2)\n",
      "Requirement already satisfied: numexpr in /usr/local/lib/python3.6/dist-packages (from pyLDAvis) (2.7.1)\n",
      "Requirement already satisfied: pytest in /usr/local/lib/python3.6/dist-packages (from pyLDAvis) (3.6.4)\n",
      "Requirement already satisfied: future in /usr/local/lib/python3.6/dist-packages (from pyLDAvis) (0.16.0)\n",
      "Collecting funcy\n",
      "\u001b[?25l  Downloading https://files.pythonhosted.org/packages/ce/4b/6ffa76544e46614123de31574ad95758c421aae391a1764921b8a81e1eae/funcy-1.14.tar.gz (548kB)\n",
      "\u001b[K     |████████████████████████████████| 552kB 43.6MB/s \n",
      "\u001b[?25hRequirement already satisfied: pytz>=2017.2 in /usr/local/lib/python3.6/dist-packages (from pandas>=0.17.0->pyLDAvis) (2018.9)\n",
      "Requirement already satisfied: python-dateutil>=2.6.1 in /usr/local/lib/python3.6/dist-packages (from pandas>=0.17.0->pyLDAvis) (2.8.1)\n",
      "Requirement already satisfied: MarkupSafe>=0.23 in /usr/local/lib/python3.6/dist-packages (from jinja2>=2.7.2->pyLDAvis) (1.1.1)\n",
      "Requirement already satisfied: more-itertools>=4.0.0 in /usr/local/lib/python3.6/dist-packages (from pytest->pyLDAvis) (8.4.0)\n",
      "Requirement already satisfied: attrs>=17.4.0 in /usr/local/lib/python3.6/dist-packages (from pytest->pyLDAvis) (19.3.0)\n",
      "Requirement already satisfied: setuptools in /usr/local/lib/python3.6/dist-packages (from pytest->pyLDAvis) (49.2.0)\n",
      "Requirement already satisfied: pluggy<0.8,>=0.5 in /usr/local/lib/python3.6/dist-packages (from pytest->pyLDAvis) (0.7.1)\n",
      "Requirement already satisfied: six>=1.10.0 in /usr/local/lib/python3.6/dist-packages (from pytest->pyLDAvis) (1.15.0)\n",
      "Requirement already satisfied: atomicwrites>=1.0 in /usr/local/lib/python3.6/dist-packages (from pytest->pyLDAvis) (1.4.0)\n",
      "Requirement already satisfied: py>=1.5.0 in /usr/local/lib/python3.6/dist-packages (from pytest->pyLDAvis) (1.9.0)\n",
      "Building wheels for collected packages: pyLDAvis, funcy\n",
      "  Building wheel for pyLDAvis (setup.py) ... \u001b[?25l\u001b[?25hdone\n",
      "  Created wheel for pyLDAvis: filename=pyLDAvis-2.1.2-py2.py3-none-any.whl size=97711 sha256=3650f74caeba41448b018a39da803ad7a76e324c38b28d046641104c30faa393\n",
      "  Stored in directory: /root/.cache/pip/wheels/98/71/24/513a99e58bb6b8465bae4d2d5e9dba8f0bef8179e3051ac414\n",
      "  Building wheel for funcy (setup.py) ... \u001b[?25l\u001b[?25hdone\n",
      "  Created wheel for funcy: filename=funcy-1.14-py2.py3-none-any.whl size=32042 sha256=6f238288d67e2f1cadb97dbb863ee0c7d087a85ca3ea5d773d97ff0ee464a22f\n",
      "  Stored in directory: /root/.cache/pip/wheels/20/5a/d8/1d875df03deae6f178dfdf70238cca33f948ef8a6f5209f2eb\n",
      "Successfully built pyLDAvis funcy\n",
      "Installing collected packages: funcy, pyLDAvis\n",
      "Successfully installed funcy-1.14 pyLDAvis-2.1.2\n"
     ]
    }
   ],
   "source": [
    "!pip install pyLDAvis"
   ]
  },
  {
   "cell_type": "code",
   "execution_count": 12,
   "metadata": {
    "colab": {
     "base_uri": "https://localhost:8080/",
     "height": 881
    },
    "colab_type": "code",
    "id": "1ASbjrwzug1W",
    "outputId": "39b26013-c6ee-4034-ec43-8f4fa19ac8c0"
   },
   "outputs": [
    {
     "name": "stderr",
     "output_type": "stream",
     "text": [
      "2020-09-02 08:54:14,655 [INFO] numexpr.utils - NumExpr defaulting to 4 threads.\n"
     ]
    },
    {
     "data": {
      "text/html": [
       "\n",
       "<link rel=\"stylesheet\" type=\"text/css\" href=\"https://cdn.rawgit.com/bmabey/pyLDAvis/files/ldavis.v1.0.0.css\">\n",
       "\n",
       "\n",
       "<div id=\"ldavis_el8840151301752411270630197\"></div>\n",
       "<script type=\"text/javascript\">\n",
       "\n",
       "var ldavis_el8840151301752411270630197_data = {\"mdsDat\": {\"x\": [-0.14251318870603064, -0.0063607119350256895, -0.0953965958471593, 0.12137752298925851, 0.12289297349895711], \"y\": [0.10920364320302282, 0.02726640851589476, -0.14853935360052067, -0.05477717787918179, 0.06684647976078487], \"topics\": [1, 2, 3, 4, 5], \"cluster\": [1, 1, 1, 1, 1], \"Freq\": [29.887131193177492, 23.80055995649121, 21.34551598497372, 13.078797958816715, 11.887994906540863]}, \"tinfo\": {\"Term\": [\"start\", \"ford\", \"crash\", \"car\", \"updat\", \"open\", \"remot\", \"servic\", \"lock\", \"love\", \"unlock\", \"log\", \"password\", \"watch\", \"fix\", \"truck\", \"vehicl\", \"sync\", \"tire\", \"dealer\", \"latest\", \"everi\", \"new\", \"schedul\", \"iphon\", \"time\", \"pass\", \"account\", \"reinstal\", \"connect\", \"latest\", \"reinstal\", \"uninstal\", \"reload\", \"crash\", \"logo\", \"reboot\", \"xs\", \"pro\", \"stabl\", \"reopen\", \"210\", \"privaci\", \"technic\", \"watch\", \"version\", \"io\", \"details\", \"seri\", \"polici\", \"issues\", \"launch\", \"began\", \"6s\", \"22\", \"open\", \"soon\", \"recreat\", \"march\", \"iphon\", \"anymor\", \"updat\", \"fix\", \"11\", \"close\", \"immedi\", \"constant\", \"fine\", \"restart\", \"sinc\", \"load\", \"won\", \"appl\", \"recent\", \"everi\", \"app\", \"work\", \"issu\", \"screen\", \"tri\", \"pleas\", \"log\", \"time\", \"delet\", \"phone\", \"doesn\", \"use\", \"great\", \"just\", \"vehicl\", \"ford\", \"new\", \"usernam\", \"health\", \"learn\", \"fingerprint\", \"alexa\", \"approv\", \"solut\", \"print\", \"vin\", \"plate\", \"licens\", \"depend\", \"bank\", \"appli\", \"42000\", \"husband\", \"count\", \"necessari\", \"fee\", \"agreement\", \"hurri\", \"repres\", \"onstar\", \"reenter\", \"clean\", \"hung\", \"maintenance\", \"practic\", \"invalid\", \"code\", \"payment\", \"happi\", \"secur\", \"email\", \"guid\", \"chat\", \"ca\", \"enter\", \"report\", \"ent\", \"id\", \"account\", \"password\", \"info\", \"execut\", \"line\", \"someon\", \"paid\", \"number\", \"rememb\", \"author\", \"applic\", \"touch\", \"link\", \"veri\", \"contact\", \"help\", \"login\", \"make\", \"want\", \"log\", \"user\", \"app\", \"wait\", \"use\", \"ford\", \"time\", \"vehicl\", \"becaus\", \"set\", \"need\", \"pin\", \"tri\", \"frustrat\", \"everi\", \"work\", \"pass\", \"day\", \"just\", \"doe\", \"say\", \"new\", \"featur\", \"like\", \"start\", \"car\", \"siri\", \"cold\", \"window\", \"warm\", \"shortcut\", \"winter\", \"outsid\", \"weather\", \"climat\", \"heat\", \"alarm\", \"50\", \"temperatur\", \"adjust\", \"ac\", \"00\", \"defrost\", \"wheel\", \"starter\", \"heater\", \"seat\", \"offlin\", \"clock\", \"warmer\", \"autostart\", \"mi\", \"start\", \"trunk\", \"quicker\", \"imag\", \"august\", \"remot\", \"lock\", \"unlock\", \"auto\", \"hous\", \"car\", \"schedul\", \"door\", \"sometim\", \"turn\", \"morn\", \"engin\", \"button\", \"abl\", \"control\", \"cool\", \"featur\", \"nice\", \"key\", \"run\", \"time\", \"app\", \"like\", \"work\", \"realli\", \"love\", \"need\", \"option\", \"vehicl\", \"truck\", \"use\", \"great\", \"onli\", \"just\", \"doesn\", \"phone\", \"say\", \"set\", \"histori\", \"track\", \"expedit\", \"benefit\", \"travel\", \"perk\", \"record\", \"redeem\", \"depart\", \"ap\", \"eas\", \"road\", \"sleep\", \"blame\", \"reward\", \"profession\", \"fingertip\", \"driven\", \"duti\", \"turbo\", \"involv\", \"ring\", \"coffe\", \"saturday\", \"infotain\", \"valuabl\", \"bonus\", \"explain\", \"mike\", \"advisor\", \"servic\", \"cost\", \"recommend\", \"dealer\", \"accur\", \"warn\", \"platinum\", \"trust\", \"gt\", \"relat\", \"purchas\", \"2019\", \"truck\", \"provid\", \"custom\", \"love\", \"ford\", \"2017\", \"recal\", \"point\", \"amaz\", \"told\", \"bought\", \"dealership\", \"vehicl\", \"oil\", \"everyth\", \"new\", \"pass\", \"best\", \"thank\", \"awesom\", \"inform\", \"park\", \"great\", \"like\", \"work\", \"app\", \"use\", \"featur\", \"just\", \"veri\", \"car\", \"doe\", \"phone\", \"2016\", \"price\", \"pressur\", \"tire\", \"network\", \"destin\", \"bluetooth\", \"zoom\", \"na\", \"gon\", \"sync3\", \"generat\", \"2013\", \"abandon\", \"usb\", \"energi\", \"diesel\", \"billion\", \"mexico\", \"usa\", \"waze\", \"north\", \"statement\", \"browser\", \"discontinu\", \"dodg\", \"clueless\", \"map\", \"joke\", \"sync\", \"market\", \"carplay\", \"fuel\", \"complex\", \"flex\", \"life\", \"dollar\", \"manag\", \"disabl\", \"level\", \"plug\", \"credit\", \"station\", \"garbag\", \"locat\", \"pay\", \"ford\", \"connect\", \"old\", \"check\", \"oil\", \"send\", \"password\", \"anoth\", \"app\", \"gas\", \"user\", \"doe\", \"use\", \"car\", \"account\", \"allow\", \"vehicl\", \"featur\", \"just\", \"work\", \"updat\", \"new\", \"pass\", \"tri\"], \"Freq\": [1639.0, 1458.0, 675.0, 1058.0, 1139.0, 747.0, 565.0, 270.0, 424.0, 461.0, 345.0, 555.0, 305.0, 299.0, 529.0, 401.0, 1151.0, 137.0, 105.0, 142.0, 170.0, 529.0, 481.0, 223.0, 274.0, 1390.0, 234.0, 169.0, 145.0, 253.0, 168.6504608294208, 143.533350449649, 63.047507374695996, 28.103060736594355, 657.4920008519339, 50.696118322478085, 22.518406334918236, 19.729574056377484, 17.868020872311103, 13.194460684874736, 14.9005388643596, 11.350426938196264, 11.349067124176887, 42.57116041372131, 278.18795083558183, 146.7755094325775, 101.22995147446616, 8.560616276233901, 8.560592172206794, 8.556520832927287, 8.55526897676649, 55.05493859613779, 6.699339339992325, 6.697893550717401, 6.6940740974543, 664.6230378547333, 48.97566322927795, 7.4507133640151775, 8.274114630199133, 242.80839422223184, 54.91659960128727, 966.9581565326658, 438.8082933181242, 38.818056167264686, 161.13521907187334, 65.87636948877241, 131.93749546929064, 98.05080084354616, 41.27173758024091, 233.80227024262356, 171.78736671740745, 240.76087714116352, 161.02694916983404, 104.04579137714076, 344.20148933953544, 2299.614623141735, 1040.1798395994506, 221.2876281209742, 134.9100008379976, 374.21229297494074, 228.97900013337645, 315.8112173143074, 626.0611630407058, 147.54532192535248, 256.0545089961366, 226.21739807219646, 451.4405145779103, 236.1649921932192, 237.81590049035222, 238.00456644808017, 192.69733112012764, 158.86871012176334, 58.50445673002298, 24.06772203403949, 21.21383377427954, 19.307567427449577, 16.429691388911813, 14.5284890631822, 11.647705663941524, 9.749128618903368, 41.31926010134449, 8.79456382023694, 8.793759887778588, 8.763634175650461, 7.833224726727538, 7.832083433729008, 7.829649586614506, 7.829391002979779, 7.82868697523287, 7.806828594724952, 6.869222125663561, 6.863341649587546, 6.863874808699764, 6.8480479763673126, 17.026900442519395, 5.924976202337773, 5.922598546394902, 5.9192469134744865, 5.918593266603369, 5.9089137323886405, 5.905961364859335, 33.599514676133, 74.24502652585971, 33.57602047430717, 44.4093168181787, 79.50334988356663, 71.99093298498045, 56.4043340669018, 55.54687797720688, 75.17817939150105, 40.80927442713078, 16.72032736117119, 88.93256756095538, 118.71750797532147, 198.0662138721981, 100.01658310224143, 20.265647880155793, 15.983288663644517, 49.548163183990816, 27.675104448107835, 40.757454994788645, 38.74037354038259, 23.515214962339485, 30.877776514940923, 71.843748445064, 40.53772819493308, 196.1580273346378, 57.50992194775092, 119.2860457826346, 103.47136664367959, 173.6371060655683, 118.36779008496539, 234.76543848409167, 80.56469340076326, 1018.9630751085392, 60.84596914813646, 334.5447671775051, 356.08666017413213, 344.8940608451672, 301.19126074217667, 106.06188244777621, 110.51342685781754, 154.3846019445875, 83.88519924450354, 181.3764687977364, 73.9524107786623, 147.44250335599315, 270.50880271483663, 91.7545887436977, 98.66157749585832, 123.503998358061, 108.8529384056971, 101.57093408865917, 106.5202252198166, 104.2440690963956, 104.07733474740229, 123.0515585338924, 111.96064208638519, 74.35108932948681, 66.53046754693537, 45.066794969679464, 42.13768107839521, 38.24795845790299, 33.35289312942091, 31.397781997079065, 30.42418499915, 29.460981208601215, 28.490070971019804, 28.450191531080613, 38.494957180922455, 16.781145753862404, 16.779132467831, 14.829231419926101, 13.855743567740006, 9.951210728261401, 9.939808873923687, 23.167769292610743, 7.997914662907886, 25.469282042619056, 7.015913582835458, 6.04801350274101, 6.047931482220177, 6.047591284644922, 6.040142323102699, 1454.0592783754635, 5.964313144343461, 14.480921194616936, 5.067948331164239, 12.59794012404283, 468.96818365499234, 345.60549583426405, 280.7689981300707, 68.2897417165804, 18.305870657786425, 752.896958597822, 169.56848371811813, 83.31508860180557, 83.41437394782156, 89.68371073372303, 44.40885908142737, 61.08414945092607, 108.27723106709122, 149.38641626433088, 71.33644997514874, 52.31399753739082, 225.38485896584206, 99.45626659705043, 71.68237311686941, 75.12590323701558, 369.59267750667664, 856.1810766350844, 186.94253906223597, 392.5552171885024, 110.90685540069765, 154.64236613797829, 144.8040900474926, 79.68392926522768, 216.55164967295923, 126.63544728505194, 218.5679176749006, 151.65504289916828, 99.2504171789564, 123.7558057573913, 94.43189145487682, 90.48348967464689, 84.74960008308767, 79.69441481988385, 33.37259938838517, 53.3811490619801, 20.99867460165098, 13.452786089898428, 12.51247941368504, 12.433522791390253, 27.37389760634609, 9.682466714807317, 8.73196677874481, 8.72482007247116, 9.546979751403352, 7.722597809301785, 6.8313871462465015, 6.831139677933237, 51.80841459507856, 5.8828373283100195, 5.882182943893339, 5.8812224345893265, 5.822099254526923, 4.936140963260925, 4.9346103632051275, 4.932827644429888, 4.93266408718184, 4.932416075487812, 4.93194069276183, 4.93019925680699, 7.342473719966431, 10.507878576303542, 3.9874311320942137, 3.986273862304616, 222.16198501162822, 9.514256522750772, 30.71813722992943, 107.05562382542404, 15.601525712925303, 14.43686858749177, 14.445860396511495, 7.142708915287229, 7.133921304001663, 11.285753823780784, 61.47291840061692, 51.184721232889345, 171.4775310151535, 34.724430476745106, 56.04398730600098, 189.70623438457372, 479.31894857238086, 49.616382463492364, 31.807293380248627, 77.94306080755496, 30.461778309106048, 41.994864669165786, 62.58935225127246, 49.951074646138466, 288.5414135353771, 51.193253109343246, 53.18577379390631, 148.30528713978777, 88.50402147015356, 41.240934968934106, 64.79253224690196, 44.082848531112376, 71.8067192817799, 47.634867697398555, 130.2127589843703, 109.4970217774782, 213.60800802621412, 334.04476916116374, 113.2519048999384, 79.13642196553207, 76.72374139886723, 65.54982349679139, 63.77487809202954, 57.35619971683396, 55.918947114697275, 36.198002686107976, 32.404015899208275, 68.41185913120901, 101.10090742617353, 17.245796071940116, 15.352772833869459, 16.118440952576282, 17.711180192900652, 10.615883181912537, 8.721154801388884, 10.399539060081777, 7.768603988665098, 7.7683831257266664, 6.825101669580972, 16.07902881456913, 5.875021719527543, 13.377608834564986, 6.682903853254686, 4.929571395460829, 4.929106971034991, 4.928812709613352, 4.9277681266369715, 4.926549770610153, 4.926260381686416, 4.924645652573477, 4.9246274507028085, 4.922882021181009, 55.41787725997859, 10.47025611126127, 116.652932204917, 16.814887686662246, 19.16235107242074, 84.76313728708486, 9.527492486374951, 10.134787924488535, 53.564591334327034, 11.282981191118486, 43.520402774568524, 24.54467648067807, 32.87286386440116, 14.29835165948806, 64.5854613828197, 19.482769439547056, 21.84223353576824, 80.82979751082348, 58.21244462554186, 383.24384149079026, 100.7542471510398, 43.241457311424675, 61.891544626003736, 49.43106500128493, 40.98585708540225, 91.26667251187912, 44.47351216134004, 465.8579531081972, 38.95334635735668, 50.51913567597581, 93.80196535492257, 150.55038118703007, 129.1355385878501, 48.264104434271275, 42.93243300291752, 107.52976188284785, 71.18333573518473, 70.80776814367178, 72.3179353879238, 60.277746796131126, 52.051454170022524, 44.435384372197035, 45.91981548757821], \"Total\": [1639.0, 1458.0, 675.0, 1058.0, 1139.0, 747.0, 565.0, 270.0, 424.0, 461.0, 345.0, 555.0, 305.0, 299.0, 529.0, 401.0, 1151.0, 137.0, 105.0, 142.0, 170.0, 529.0, 481.0, 223.0, 274.0, 1390.0, 234.0, 169.0, 145.0, 253.0, 170.38375326359116, 145.25471386207553, 64.25969736581696, 28.87689699014305, 675.6680940936277, 52.1599988151267, 23.29200473540329, 20.4994170399099, 18.637761002349208, 13.984307597876311, 15.84996277628069, 12.122032149596023, 12.12205685763723, 45.67510439593233, 299.7745536202868, 159.4310344721049, 110.03561273013673, 9.329507781940501, 9.329535680021323, 9.329588384775764, 9.329631263118058, 60.75176713349809, 7.46786038441525, 7.467867905813015, 7.467999411673731, 747.0940540199491, 55.12036193445438, 8.403557691321023, 9.343129342589995, 274.5715412726804, 62.69347893552273, 1139.1705279730757, 529.8757553389158, 44.91001723984733, 194.93807319261288, 77.70023435207125, 161.90359633150663, 120.6985416027319, 48.73204050143822, 305.1474420038341, 222.11369705456494, 323.90475848553075, 211.45345428696595, 136.89964616653154, 529.4452634136293, 4974.661497154719, 1989.1698029169277, 337.66506178872805, 189.77503057457645, 654.7577740340112, 368.9160245745852, 555.4674418419896, 1390.7058612067347, 222.16366398180452, 477.98284229702716, 406.5419251072202, 1268.3554855172845, 610.3947682468798, 632.6072141483435, 1151.818652281441, 1458.588810525216, 481.1561254336417, 59.26915292721655, 24.852330262632414, 21.984414539233313, 20.072378863318953, 17.204480740966538, 15.292273217430878, 12.424184975147403, 10.512214137008142, 44.881898282717984, 9.556185653866791, 9.556161698880338, 9.556249240942652, 8.600179219778783, 8.600144788833108, 8.600109050151291, 8.600168759785118, 8.600259081894885, 8.600030131727108, 7.644045129122419, 7.643736341712087, 7.644370322273386, 7.643912689473534, 19.10533221256298, 6.68812293288684, 6.688145778080597, 6.688014094389042, 6.688016314658538, 6.687965838033648, 6.687993774834446, 38.15048038119812, 85.94739357436623, 39.13805613886227, 52.551266449928185, 96.41519611626953, 87.64809250074634, 69.58238264545022, 68.72884622378807, 98.86370337346565, 52.422133067535675, 20.004193782102224, 123.36711057934887, 169.7057511385461, 305.6865126243795, 149.58701259594687, 24.930177453505156, 19.100021945663563, 68.705519932152, 35.51165394608289, 55.34583890930411, 52.34734014106833, 29.57859278671834, 41.17498691306364, 113.30571578019202, 57.123687656307894, 384.3144935565758, 88.43888539040464, 221.47015193208753, 186.21576751694337, 362.2089466890004, 226.36803864372104, 555.4674418419896, 139.11320718513468, 4974.661497154719, 98.37268188374804, 1268.3554855172845, 1458.588810525216, 1390.7058612067347, 1151.818652281441, 241.2855851806783, 258.4618143826994, 448.5352016388514, 167.91358854814527, 654.7577740340112, 135.93724004456845, 529.4452634136293, 1989.1698029169277, 234.8841641232706, 304.34893071756545, 632.6072141483435, 451.42328874263444, 364.8137011828812, 481.1561254336417, 511.1771318980183, 511.81606829039674, 1639.3966177823397, 1058.6392840268518, 75.11262405986305, 67.30595820908023, 45.83844883127443, 42.91095775809626, 39.00808453547351, 34.1286706857801, 32.177055083534164, 31.201306766439416, 30.22580852997858, 29.250103148120235, 29.249268673588244, 39.967201352326484, 17.540549795193048, 17.54047512744619, 15.588934065299956, 14.613198236227039, 10.709973880305927, 10.709560955195279, 25.31753406473733, 8.758302936550818, 28.218973052188314, 7.782357996446764, 6.806741471924038, 6.806762186112731, 6.8067641226106375, 6.806528108667511, 1639.3966177823397, 6.8048723090556225, 16.533886510375787, 5.830767466570213, 14.577370313330848, 565.628713331131, 424.64056945541347, 345.8776751116213, 82.55363325545827, 21.358912144045902, 1058.6392840268518, 223.1541358497612, 105.87622575087256, 106.293810475731, 115.22063464860935, 54.365243765478866, 85.19573867612014, 166.14759356662722, 274.86668899251674, 110.24733739212186, 74.44542908014178, 511.1771318980183, 174.371137648483, 114.2295355125104, 121.95780022999692, 1390.7058612067347, 4974.661497154719, 511.81606829039674, 1989.1698029169277, 261.37369849812944, 461.17972079560343, 448.5352016388514, 154.99690106830954, 1151.818652281441, 401.55176142095735, 1268.3554855172845, 610.3947682468798, 294.8928961368079, 632.6072141483435, 406.5419251072202, 477.98284229702716, 364.8137011828812, 258.4618143826994, 34.18102609362924, 55.05771930048593, 21.837659897863, 14.243750990529804, 13.29442370005444, 13.292818315337502, 29.43254297071529, 10.446125347259532, 9.496669608875312, 9.49671494585045, 10.449794031278053, 8.547728039530163, 7.5979248233190635, 7.597868937571686, 57.921447656890585, 6.64849376328805, 6.648521055082123, 6.648449616818131, 6.650144603696429, 5.699084671408632, 5.699063737636441, 5.699043775278346, 5.699074435664302, 5.699016059772567, 5.699045784250489, 5.699161875790663, 8.559520164737453, 12.324051317806072, 4.749657891253518, 4.7496756956338695, 270.84821820704025, 11.393979926367075, 38.04077113262689, 142.41834188674864, 19.059517975537652, 18.016728989740592, 18.055800138596375, 8.535135605599415, 8.546992056395542, 14.25896773243243, 99.88917552677637, 82.4099934015316, 401.55176142095735, 57.769454857719126, 103.7762760083189, 461.17972079560343, 1458.588810525216, 93.17033597421994, 53.14297856618427, 170.0295604798523, 51.73778559504952, 79.09678387918377, 136.6705005559605, 101.8770269791101, 1151.818652281441, 107.2623078061522, 113.27767525435647, 481.1561254336417, 234.8841641232706, 79.30205482286156, 154.1091525143906, 90.46795093163975, 195.0323273725632, 103.96502012390967, 610.3947682468798, 511.81606829039674, 1989.1698029169277, 4974.661497154719, 1268.3554855172845, 511.1771318980183, 632.6072141483435, 384.3144935565758, 1058.6392840268518, 451.42328874263444, 477.98284229702716, 36.978417129680146, 33.186173429196984, 71.13393460910062, 105.28058237936575, 18.01714874895916, 16.121051061608256, 17.074456320648977, 18.96586406869469, 11.380731749179354, 9.484586126895667, 11.376847496473692, 8.536528743384569, 8.536557977370292, 7.5884453971450165, 18.026988748390618, 6.64039577920332, 15.174542991676057, 7.585938314370784, 5.692327870671767, 5.692332148822787, 5.692320188086385, 5.692330230615396, 5.692349714483706, 5.692336019012732, 5.6923470917931045, 5.692374514728654, 5.69237575735265, 64.48397207231677, 12.330327441423812, 137.40914561085688, 19.916596410951353, 22.781169288595667, 113.2860353426051, 11.38227549108619, 12.340629900873768, 75.81858580763836, 14.227938222360335, 64.62447473192879, 34.392234831141984, 49.68718522278479, 18.9462883654768, 117.98776185503749, 27.508117124376696, 32.1205333751819, 176.2585674119523, 117.07887076056087, 1458.588810525216, 253.12954452877707, 83.85205616629398, 137.54462608615148, 107.2623078061522, 86.3923018110479, 305.6865126243795, 101.03151222549737, 4974.661497154719, 85.72831629164115, 139.11320718513468, 451.42328874263444, 1268.3554855172845, 1058.6392840268518, 169.7057511385461, 137.43188512903293, 1151.818652281441, 511.1771318980183, 632.6072141483435, 1989.1698029169277, 1139.1705279730757, 481.1561254336417, 234.8841641232706, 654.7577740340112], \"Category\": [\"Default\", \"Default\", \"Default\", \"Default\", \"Default\", \"Default\", \"Default\", \"Default\", \"Default\", \"Default\", \"Default\", \"Default\", \"Default\", \"Default\", \"Default\", \"Default\", \"Default\", \"Default\", \"Default\", \"Default\", \"Default\", \"Default\", \"Default\", \"Default\", \"Default\", \"Default\", \"Default\", \"Default\", \"Default\", \"Default\", \"Topic1\", \"Topic1\", \"Topic1\", \"Topic1\", \"Topic1\", \"Topic1\", \"Topic1\", \"Topic1\", \"Topic1\", \"Topic1\", \"Topic1\", \"Topic1\", \"Topic1\", \"Topic1\", \"Topic1\", \"Topic1\", \"Topic1\", \"Topic1\", \"Topic1\", \"Topic1\", \"Topic1\", \"Topic1\", \"Topic1\", \"Topic1\", \"Topic1\", \"Topic1\", \"Topic1\", \"Topic1\", \"Topic1\", \"Topic1\", \"Topic1\", \"Topic1\", \"Topic1\", \"Topic1\", \"Topic1\", \"Topic1\", \"Topic1\", \"Topic1\", \"Topic1\", \"Topic1\", \"Topic1\", \"Topic1\", \"Topic1\", \"Topic1\", \"Topic1\", \"Topic1\", \"Topic1\", \"Topic1\", \"Topic1\", \"Topic1\", \"Topic1\", \"Topic1\", \"Topic1\", \"Topic1\", \"Topic1\", \"Topic1\", \"Topic1\", \"Topic1\", \"Topic1\", \"Topic1\", \"Topic1\", \"Topic1\", \"Topic2\", \"Topic2\", \"Topic2\", \"Topic2\", \"Topic2\", \"Topic2\", \"Topic2\", \"Topic2\", \"Topic2\", \"Topic2\", \"Topic2\", \"Topic2\", \"Topic2\", \"Topic2\", \"Topic2\", \"Topic2\", \"Topic2\", \"Topic2\", \"Topic2\", \"Topic2\", \"Topic2\", \"Topic2\", \"Topic2\", \"Topic2\", \"Topic2\", \"Topic2\", \"Topic2\", \"Topic2\", \"Topic2\", \"Topic2\", \"Topic2\", \"Topic2\", \"Topic2\", \"Topic2\", \"Topic2\", \"Topic2\", \"Topic2\", \"Topic2\", \"Topic2\", \"Topic2\", \"Topic2\", \"Topic2\", \"Topic2\", \"Topic2\", \"Topic2\", \"Topic2\", \"Topic2\", \"Topic2\", \"Topic2\", \"Topic2\", \"Topic2\", \"Topic2\", \"Topic2\", \"Topic2\", \"Topic2\", \"Topic2\", \"Topic2\", \"Topic2\", \"Topic2\", \"Topic2\", \"Topic2\", \"Topic2\", \"Topic2\", \"Topic2\", \"Topic2\", \"Topic2\", \"Topic2\", \"Topic2\", \"Topic2\", \"Topic2\", \"Topic2\", \"Topic2\", \"Topic2\", \"Topic2\", \"Topic2\", \"Topic2\", \"Topic2\", \"Topic2\", \"Topic2\", \"Topic2\", \"Topic2\", \"Topic2\", \"Topic2\", \"Topic2\", \"Topic2\", \"Topic2\", \"Topic3\", \"Topic3\", \"Topic3\", \"Topic3\", \"Topic3\", \"Topic3\", \"Topic3\", \"Topic3\", \"Topic3\", \"Topic3\", \"Topic3\", \"Topic3\", \"Topic3\", \"Topic3\", \"Topic3\", \"Topic3\", \"Topic3\", \"Topic3\", \"Topic3\", \"Topic3\", \"Topic3\", \"Topic3\", \"Topic3\", \"Topic3\", \"Topic3\", \"Topic3\", \"Topic3\", \"Topic3\", \"Topic3\", \"Topic3\", \"Topic3\", \"Topic3\", \"Topic3\", \"Topic3\", \"Topic3\", \"Topic3\", \"Topic3\", \"Topic3\", \"Topic3\", \"Topic3\", \"Topic3\", \"Topic3\", \"Topic3\", \"Topic3\", \"Topic3\", \"Topic3\", \"Topic3\", \"Topic3\", \"Topic3\", \"Topic3\", \"Topic3\", \"Topic3\", \"Topic3\", \"Topic3\", \"Topic3\", \"Topic3\", \"Topic3\", \"Topic3\", \"Topic3\", \"Topic3\", \"Topic3\", \"Topic3\", \"Topic3\", \"Topic3\", \"Topic3\", \"Topic3\", \"Topic3\", \"Topic3\", \"Topic3\", \"Topic4\", \"Topic4\", \"Topic4\", \"Topic4\", \"Topic4\", \"Topic4\", \"Topic4\", \"Topic4\", \"Topic4\", \"Topic4\", \"Topic4\", \"Topic4\", \"Topic4\", \"Topic4\", \"Topic4\", \"Topic4\", \"Topic4\", \"Topic4\", \"Topic4\", \"Topic4\", \"Topic4\", \"Topic4\", \"Topic4\", \"Topic4\", \"Topic4\", \"Topic4\", \"Topic4\", \"Topic4\", \"Topic4\", \"Topic4\", \"Topic4\", \"Topic4\", \"Topic4\", \"Topic4\", \"Topic4\", \"Topic4\", \"Topic4\", \"Topic4\", \"Topic4\", \"Topic4\", \"Topic4\", \"Topic4\", \"Topic4\", \"Topic4\", \"Topic4\", \"Topic4\", \"Topic4\", \"Topic4\", \"Topic4\", \"Topic4\", \"Topic4\", \"Topic4\", \"Topic4\", \"Topic4\", \"Topic4\", \"Topic4\", \"Topic4\", \"Topic4\", \"Topic4\", \"Topic4\", \"Topic4\", \"Topic4\", \"Topic4\", \"Topic4\", \"Topic4\", \"Topic4\", \"Topic4\", \"Topic4\", \"Topic4\", \"Topic4\", \"Topic4\", \"Topic4\", \"Topic4\", \"Topic4\", \"Topic4\", \"Topic5\", \"Topic5\", \"Topic5\", \"Topic5\", \"Topic5\", \"Topic5\", \"Topic5\", \"Topic5\", \"Topic5\", \"Topic5\", \"Topic5\", \"Topic5\", \"Topic5\", \"Topic5\", \"Topic5\", \"Topic5\", \"Topic5\", \"Topic5\", \"Topic5\", \"Topic5\", \"Topic5\", \"Topic5\", \"Topic5\", \"Topic5\", \"Topic5\", \"Topic5\", \"Topic5\", \"Topic5\", \"Topic5\", \"Topic5\", \"Topic5\", \"Topic5\", \"Topic5\", \"Topic5\", \"Topic5\", \"Topic5\", \"Topic5\", \"Topic5\", \"Topic5\", \"Topic5\", \"Topic5\", \"Topic5\", \"Topic5\", \"Topic5\", \"Topic5\", \"Topic5\", \"Topic5\", \"Topic5\", \"Topic5\", \"Topic5\", \"Topic5\", \"Topic5\", \"Topic5\", \"Topic5\", \"Topic5\", \"Topic5\", \"Topic5\", \"Topic5\", \"Topic5\", \"Topic5\", \"Topic5\", \"Topic5\", \"Topic5\", \"Topic5\", \"Topic5\", \"Topic5\", \"Topic5\", \"Topic5\", \"Topic5\", \"Topic5\"], \"logprob\": [30.0, 29.0, 28.0, 27.0, 26.0, 25.0, 24.0, 23.0, 22.0, 21.0, 20.0, 19.0, 18.0, 17.0, 16.0, 15.0, 14.0, 13.0, 12.0, 11.0, 10.0, 9.0, 8.0, 7.0, 6.0, 5.0, 4.0, 3.0, 2.0, 1.0, -4.9853, -5.1465, -5.9692, -6.7772, -3.6247, -6.1872, -6.9988, -7.131, -7.2301, -7.5333, -7.4117, -7.6838, -7.684, -6.3619, -4.4848, -5.1242, -5.4957, -7.9659, -7.9659, -7.9664, -7.9665, -6.1048, -8.2111, -8.2113, -8.2119, -3.6139, -6.2218, -8.1048, -8.0, -4.6208, -6.1073, -3.2389, -4.029, -6.4542, -5.0308, -5.9253, -5.2308, -5.5276, -6.3929, -4.6586, -4.9668, -4.6293, -5.0315, -5.4683, -4.2719, -2.3726, -3.1659, -4.7136, -5.2085, -4.1883, -4.6795, -4.3579, -3.6736, -5.119, -4.5677, -4.6916, -4.0006, -4.6486, -4.6416, -4.6408, -4.852, -5.045, -5.8163, -6.7045, -6.8307, -6.9249, -7.0863, -7.2093, -7.4303, -7.6082, -6.164, -7.7112, -7.7113, -7.7148, -7.827, -7.8271, -7.8275, -7.8275, -7.8276, -7.8304, -7.9583, -7.9592, -7.9591, -7.9614, -7.0506, -8.1062, -8.1066, -8.1072, -8.1073, -8.1089, -8.1094, -6.3709, -5.578, -6.3716, -6.0919, -5.5096, -5.6088, -5.8528, -5.8681, -5.5655, -6.1765, -7.0687, -5.3975, -5.1086, -4.5968, -5.28, -6.8764, -7.1138, -5.9824, -6.5648, -6.1777, -6.2285, -6.7277, -6.4553, -5.6109, -6.1831, -4.6065, -5.8334, -5.1038, -5.2461, -4.7284, -5.1116, -4.4268, -5.4963, -2.9588, -5.777, -4.0726, -4.0102, -4.0421, -4.1776, -5.2213, -5.1802, -4.8459, -5.4559, -4.6848, -5.5819, -4.8919, -4.2851, -5.3663, -5.2937, -5.0691, -5.1954, -5.2646, -5.217, -5.2386, -5.2402, -5.0728, -5.1672, -5.4677, -5.5788, -5.9684, -6.0356, -6.1324, -6.2694, -6.3298, -6.3613, -6.3934, -6.4269, -6.4283, -6.126, -6.9562, -6.9564, -7.0799, -7.1478, -7.4788, -7.48, -6.6337, -7.6973, -6.539, -7.8283, -7.9768, -7.9768, -7.9768, -7.9781, -2.4944, -7.9907, -7.1037, -8.1536, -7.243, -3.626, -3.9312, -4.139, -5.5527, -6.8693, -3.1526, -4.6432, -5.3539, -5.3527, -5.2802, -5.9831, -5.6643, -5.0918, -4.77, -5.5091, -5.8192, -4.3587, -5.1768, -5.5043, -5.4573, -3.8641, -3.024, -4.5457, -3.8038, -5.0678, -4.7354, -4.8011, -5.3984, -4.3987, -4.9352, -4.3894, -4.7549, -5.1789, -4.9582, -5.2286, -5.2713, -5.3368, -5.3983, -5.7789, -5.3092, -6.2422, -6.6875, -6.7599, -6.7663, -5.9771, -7.0163, -7.1197, -7.1205, -7.0304, -7.2425, -7.3651, -7.3652, -5.3391, -7.5146, -7.5147, -7.5149, -7.525, -7.6901, -7.6904, -7.6907, -7.6908, -7.6908, -7.6909, -7.6913, -7.293, -6.9345, -7.9035, -7.9038, -3.8832, -7.0339, -5.8618, -4.6133, -6.5393, -6.6169, -6.6162, -7.3206, -7.3218, -6.8631, -5.1681, -5.3512, -4.1422, -5.7392, -5.2605, -4.0412, -3.1143, -5.3823, -5.827, -4.9307, -5.8702, -5.5491, -5.1501, -5.3756, -3.6218, -5.351, -5.3129, -4.2874, -4.8036, -5.5672, -5.1155, -5.5006, -5.0127, -5.4231, -4.4175, -4.5908, -3.9225, -3.4754, -4.557, -4.9155, -4.9464, -5.1038, -5.1313, -5.2374, -5.2628, -5.6022, -5.7129, -4.9656, -4.5751, -6.3436, -6.4599, -6.4112, -6.317, -6.8288, -7.0254, -6.8494, -7.1411, -7.1411, -7.2706, -6.4137, -7.4205, -6.5976, -7.2916, -7.5959, -7.596, -7.5961, -7.5963, -7.5966, -7.5966, -7.5969, -7.5969, -7.5973, -5.1763, -6.8427, -4.432, -6.3689, -6.2382, -4.7513, -6.937, -6.8752, -5.2103, -6.7679, -5.418, -5.9907, -5.6985, -6.531, -5.0232, -6.2217, -6.1073, -4.7988, -5.1271, -3.2425, -4.5785, -5.4244, -5.0658, -5.2906, -5.478, -4.6774, -5.3963, -3.0473, -5.5288, -5.2688, -4.65, -4.1769, -4.3303, -5.3145, -5.4316, -4.5134, -4.9259, -4.9312, -4.9101, -5.0922, -5.239, -5.3972, -5.3643], \"loglift\": [30.0, 29.0, 28.0, 27.0, 26.0, 25.0, 24.0, 23.0, 22.0, 21.0, 20.0, 19.0, 18.0, 17.0, 16.0, 15.0, 14.0, 13.0, 12.0, 11.0, 10.0, 9.0, 8.0, 7.0, 6.0, 5.0, 4.0, 3.0, 2.0, 1.0, 1.1975, 1.1958, 1.1887, 1.1806, 1.1805, 1.1793, 1.174, 1.1695, 1.1656, 1.1496, 1.146, 1.142, 1.1419, 1.1374, 1.133, 1.125, 1.1243, 1.1217, 1.1217, 1.1212, 1.1211, 1.1093, 1.0991, 1.0989, 1.0983, 1.0908, 1.0895, 1.0874, 1.0862, 1.0848, 1.0753, 1.0438, 1.0192, 1.062, 1.0173, 1.0427, 1.0031, 0.9999, 1.0416, 0.9414, 0.9508, 0.9111, 0.9353, 0.9333, 0.7771, 0.4361, 0.5594, 0.7852, 0.8665, 0.6483, 0.7308, 0.6431, 0.4096, 0.7985, 0.5836, 0.6216, 0.1747, 0.2582, 0.2294, -0.3691, -0.8164, 0.0996, 1.4225, 1.4034, 1.3998, 1.3966, 1.3894, 1.3842, 1.3709, 1.3601, 1.3528, 1.3524, 1.3523, 1.3489, 1.3421, 1.3419, 1.3416, 1.3416, 1.3415, 1.3387, 1.3286, 1.3278, 1.3278, 1.3255, 1.3203, 1.3143, 1.3139, 1.3134, 1.3132, 1.3116, 1.3111, 1.3084, 1.2891, 1.2822, 1.2671, 1.2426, 1.2387, 1.2255, 1.2225, 1.1616, 1.185, 1.2561, 1.1082, 1.0781, 1.0015, 1.0329, 1.2283, 1.2573, 1.1086, 1.1861, 1.1295, 1.1344, 1.2061, 1.1477, 0.9799, 1.0925, 0.7629, 1.0051, 0.8167, 0.8478, 0.7002, 0.7871, 0.5742, 0.8892, -0.1501, 0.955, 0.1028, 0.0254, 0.0411, 0.0941, 0.6135, 0.5859, 0.3689, 0.7415, 0.1518, 0.8267, 0.1571, -0.5597, 0.4955, 0.309, -0.1981, 0.0131, 0.1568, -0.0724, -0.1545, -0.1574, -1.154, -0.8111, 1.5341, 1.5327, 1.5274, 1.5261, 1.5246, 1.5213, 1.5198, 1.5191, 1.5187, 1.518, 1.5166, 1.5068, 1.5001, 1.5, 1.4944, 1.4911, 1.4708, 1.4697, 1.4556, 1.4535, 1.4418, 1.4407, 1.4261, 1.4261, 1.4261, 1.4249, 1.4244, 1.4125, 1.4117, 1.4041, 1.3984, 1.3569, 1.3384, 1.3358, 1.3546, 1.3901, 1.2035, 1.2697, 1.3047, 1.3019, 1.2938, 1.342, 1.2116, 1.1161, 0.9346, 1.109, 1.1915, 0.7254, 0.9829, 1.0784, 1.0598, 0.2192, -0.2153, 0.5372, -0.0785, 0.6871, 0.4517, 0.4137, 0.879, -0.1269, 0.3903, -0.2141, 0.1518, 0.4554, -0.0872, 0.0845, -0.1201, 0.0846, 0.3678, 2.0102, 2.0033, 1.995, 1.977, 1.9736, 1.9674, 1.9617, 1.9583, 1.9502, 1.9494, 1.9438, 1.9327, 1.9278, 1.9278, 1.9226, 1.9118, 1.9117, 1.9116, 1.9012, 1.8905, 1.8901, 1.8898, 1.8898, 1.8897, 1.8896, 1.8892, 1.8808, 1.8748, 1.8593, 1.859, 1.836, 1.8539, 1.8204, 1.7488, 1.834, 1.8127, 1.8111, 1.8561, 1.8535, 1.8003, 1.5487, 1.5579, 1.1833, 1.5252, 1.4181, 1.1459, 0.9213, 1.4041, 1.5209, 1.2542, 1.5045, 1.4011, 1.2532, 1.3215, 0.6499, 1.2945, 1.2781, 0.8573, 1.0581, 1.3803, 1.1677, 1.3153, 1.035, 1.2537, 0.4892, 0.4921, -0.1972, -0.6667, -0.3817, 0.1686, -0.0755, 0.2655, -0.7752, -0.0289, -0.1115, 2.1083, 2.1058, 2.0906, 2.0891, 2.0859, 2.0808, 2.072, 2.0612, 2.0601, 2.0457, 2.0398, 2.0354, 2.0353, 2.0236, 2.0153, 2.0072, 2.0036, 2.0029, 1.9858, 1.9857, 1.9856, 1.9854, 1.9852, 1.9851, 1.9848, 1.9848, 1.9844, 1.9781, 1.9661, 1.9659, 1.9604, 1.9567, 1.8396, 1.9518, 1.9327, 1.7822, 1.8977, 1.7343, 1.7923, 1.7165, 1.8482, 1.527, 1.7847, 1.744, 1.35, 1.4309, 0.7931, 1.2084, 1.4674, 1.3311, 1.3549, 1.384, 0.9209, 1.3091, -0.2386, 1.3408, 1.1167, 0.5584, -0.0015, 0.0258, 0.8723, 0.9661, -0.2417, 0.1582, -0.0602, -1.1848, -0.8095, -0.0943, 0.4646, -0.5277]}, \"token.table\": {\"Topic\": [3, 1, 3, 5, 5, 5, 1, 2, 4, 5, 1, 3, 4, 5, 1, 1, 2, 2, 3, 1, 5, 1, 2, 3, 4, 5, 3, 1, 2, 5, 3, 4, 3, 4, 2, 3, 2, 1, 2, 3, 4, 5, 1, 2, 3, 4, 1, 2, 3, 4, 5, 1, 2, 3, 4, 1, 2, 3, 4, 5, 1, 3, 5, 2, 2, 3, 4, 5, 2, 3, 5, 1, 2, 4, 5, 2, 3, 4, 5, 3, 1, 2, 3, 4, 2, 1, 2, 3, 4, 5, 1, 4, 2, 3, 4, 5, 5, 4, 5, 3, 4, 1, 2, 3, 4, 5, 5, 1, 2, 3, 2, 4, 5, 1, 2, 3, 4, 5, 2, 5, 1, 2, 4, 5, 1, 2, 3, 4, 5, 2, 3, 3, 1, 2, 3, 4, 5, 1, 2, 5, 4, 3, 4, 5, 1, 2, 3, 4, 5, 1, 2, 3, 5, 1, 2, 4, 5, 1, 2, 3, 4, 5, 1, 2, 3, 4, 5, 4, 5, 2, 1, 3, 1, 2, 5, 2, 3, 4, 5, 1, 2, 3, 4, 5, 1, 2, 4, 5, 1, 2, 3, 4, 5, 3, 1, 2, 3, 5, 4, 2, 5, 1, 4, 5, 3, 5, 5, 5, 1, 2, 3, 4, 5, 1, 2, 3, 4, 5, 4, 5, 2, 3, 4, 4, 4, 4, 1, 2, 4, 5, 5, 1, 2, 3, 4, 5, 1, 2, 1, 2, 5, 1, 2, 3, 4, 1, 2, 4, 5, 2, 3, 4, 1, 4, 1, 2, 3, 4, 5, 2, 1, 2, 3, 4, 5, 2, 4, 1, 2, 3, 4, 5, 2, 5, 1, 2, 3, 4, 5, 1, 2, 3, 4, 5, 2, 3, 4, 5, 1, 4, 5, 2, 3, 4, 5, 5, 5, 1, 2, 3, 4, 5, 4, 5, 1, 2, 4, 1, 2, 5, 2, 3, 3, 1, 2, 3, 4, 5, 4, 1, 3, 4, 2, 2, 2, 1, 2, 3, 1, 3, 5, 1, 2, 3, 4, 5, 1, 2, 4, 5, 4, 2, 4, 1, 2, 3, 5, 1, 2, 3, 5, 1, 2, 3, 4, 1, 4, 5, 1, 2, 3, 4, 5, 2, 3, 4, 1, 5, 1, 3, 2, 2, 3, 4, 5, 2, 1, 2, 4, 5, 1, 2, 3, 4, 5, 2, 4, 1, 2, 5, 1, 2, 3, 1, 3, 4, 5, 1, 2, 3, 4, 1, 2, 5, 1, 2, 5, 1, 5, 1, 2, 3, 4, 2, 1, 2, 3, 4, 5, 1, 2, 4, 5, 4, 5, 1, 4, 5, 5, 3, 4, 3, 4, 5, 2, 1, 2, 3, 4, 5, 5, 1, 2, 3, 4, 5, 1, 2, 3, 4, 5, 5, 2, 4, 5, 3, 1, 2, 3, 4, 5, 1, 2, 3, 4, 5, 1, 2, 3, 4, 5, 2, 5, 1, 2, 3, 4, 1, 2, 3, 4, 5, 3, 2, 3, 2, 3, 4, 5, 1, 2, 4, 5, 1, 2, 5, 1, 2, 3, 4, 5, 2, 4, 5, 4, 1, 2, 3, 4, 5, 1, 2, 2, 2, 3, 4, 5, 1, 2, 3, 5, 1, 3, 5, 1, 2, 4, 5, 1, 2, 3, 4, 5, 5, 2, 1, 1, 4, 1, 2, 3, 4, 5, 1, 2, 3, 4, 5, 2, 3, 1, 2, 3, 4, 5, 1, 1, 2, 4, 1, 2, 3, 5, 2, 3, 4, 5, 4, 5, 1, 4, 2, 1, 2, 2, 4, 1, 1, 2, 4, 5, 1, 2, 3, 4, 1, 1, 2, 3, 5, 2, 1, 3, 2, 4, 5, 4, 4, 1, 2, 3, 4, 4, 1, 2, 3, 4, 5, 2, 3, 4, 1, 2, 3, 4, 5, 3, 4, 2, 3, 5, 2, 3, 5, 1, 1, 2, 3, 4, 5, 1, 2, 3, 5, 3, 1, 2, 3, 4, 5, 3, 4, 2, 1, 2, 3, 4, 5, 1, 3, 5, 1, 3, 4, 1, 1, 2, 3, 4, 5, 2, 3, 5, 4, 5, 1, 2, 4, 5, 5, 1, 4, 5, 3, 1, 2, 3, 4, 5, 1, 2, 3, 4, 5, 2, 3, 4, 5, 2, 3, 4, 5, 1, 2, 3, 5, 1, 4, 4, 1, 2, 3, 4, 5, 1, 2, 3, 4, 5, 3, 1, 4, 4, 1, 2, 3, 4, 5, 1, 2, 2, 3, 4, 1, 2, 3, 4, 5, 5, 2, 5, 1, 2, 3, 4, 5, 1, 2, 3, 4, 5, 2, 4, 1, 2, 3, 4, 5, 1, 2, 3, 4, 5, 1, 2, 5, 1, 2, 5, 1, 2, 3, 4, 1, 2, 3, 4, 5, 3, 3, 1, 4, 5, 1, 3, 5, 3, 3, 3, 3, 1, 2, 3, 5, 1, 2, 3, 4, 5, 1, 4, 5], \"Freq\": [0.9580380539349093, 0.8684031402552315, 0.0890669887441263, 0.022266747186031575, 0.9371458638490288, 0.9735408596249828, 0.010733029880633876, 0.25759271713521303, 0.5366514940316939, 0.19319453785140978, 0.2548234641602303, 0.09707560539437345, 0.6188569843891307, 0.02426890134859336, 0.9074386096531334, 0.937332693017869, 0.9302207627075689, 0.025020515977203648, 0.9507796071337385, 0.9373491990332575, 0.9224550792226289, 0.1709919822306281, 0.13461070941560083, 0.5420809649439061, 0.09822943660057358, 0.054571909222540876, 0.9622210176248748, 0.011785104432714362, 0.7012137137465045, 0.2828425063851447, 0.15740167216455392, 0.839475584877621, 0.9691869733562412, 0.84216276148643, 0.9157825030935199, 0.9572888919880476, 0.9299902880475501, 0.11642130925423759, 0.28377694130720416, 0.2182899548516955, 0.06548698645550864, 0.3128822686207635, 0.019328233485425474, 0.03865646697085095, 0.34790820273765855, 0.5798470045627643, 0.06928531352056123, 0.06928531352056123, 0.19795803863017494, 0.21775384249319243, 0.43550768498638487, 0.877284223715913, 0.015950622249380236, 0.09570373349628142, 0.947696129800391, 0.4623430159651056, 0.2048380579428011, 0.17207200942005668, 0.06714024666623707, 0.09367471540858226, 0.7613968783007206, 0.184437753128746, 0.052020904728620664, 0.9302168970908062, 0.7528842708669955, 0.12143294691403153, 0.07285976814841892, 0.04857317876561261, 0.9808875231775397, 0.8917932192551656, 0.06859947840424352, 0.03380823446235852, 0.8113976270966045, 0.06761646892471704, 0.10142470338707556, 0.03634001171961316, 0.8237069323112316, 0.06056668619935526, 0.07268002343922632, 0.8814761158050509, 0.22107276437721674, 0.022107276437721674, 0.27634095547152093, 0.4863600816298768, 0.9302131729535956, 0.2776792486373746, 0.43931343814271206, 0.1201895255296099, 0.029011264783009288, 0.13262292472232817, 0.9373501431023493, 0.9126809369697116, 0.0882700960982162, 0.2269802471096988, 0.5170105628609806, 0.1639301784681158, 0.9227599421338842, 0.9213109698937808, 0.9370722967413267, 0.11682897881585551, 0.8178028517109885, 0.1243867544996607, 0.30730845229327935, 0.007316867911744747, 0.46096267843991906, 0.10243615076442646, 0.8783740073143452, 0.1083374102122146, 0.24074980047158798, 0.6500244612732876, 0.8147961602273716, 0.0436497942978949, 0.14549931432631635, 0.0009446088153806274, 0.10579618732263027, 0.7112904379816124, 0.06045496418436015, 0.12185453718410093, 0.13168770935308446, 0.8340221592362016, 0.08622872301703687, 0.8048014148256774, 0.04311436150851843, 0.05748581534469124, 0.1090555147578409, 0.08724441180627271, 0.30535544132195447, 0.05089257355365908, 0.450762794332409, 0.8971096323384739, 0.9594449713805737, 0.8814790490792653, 0.8259033105396522, 0.010259668453908723, 0.12824585567385904, 0.03590883958868053, 0.8783678754062693, 0.07863596919420454, 0.8912076508676514, 0.02621198973140151, 0.8773354439293587, 0.9954542180629864, 0.08785589496433563, 0.8785589496433562, 0.3357964403492883, 0.1422196688538162, 0.0395054635705045, 0.08296147349805945, 0.39900518206209545, 0.8152999870967822, 0.12353030107527004, 0.03705909032258101, 0.024706060215054008, 0.14699416373931892, 0.6558201151446537, 0.1809158938330079, 0.02261448672912599, 0.009070513843279981, 0.16326924917903965, 0.6440064828728786, 0.08163462458951982, 0.10884616611935977, 0.05373063261807426, 0.013432658154518565, 0.6984982240349654, 0.21492253047229704, 0.013432658154518565, 0.8776564523217008, 0.08776564523217006, 0.930204534982145, 0.9723709107225642, 0.026640298923905868, 0.008475455286868, 0.440723674917136, 0.55090459364642, 0.3469000949418745, 0.019272227496770804, 0.5396223699095826, 0.08672502373546863, 0.34499874782684736, 0.32528453366531324, 0.2365705699384096, 0.08214255900639222, 0.009857107080767067, 0.014043134988823308, 0.08425880993293985, 0.7513077219020471, 0.14745291738264474, 0.019631511237662054, 0.3239199354214239, 0.03926302247532411, 0.4907877809415513, 0.11778906742597231, 0.9337090932022285, 0.6661755453048406, 0.15754151409236095, 0.13503558350773795, 0.040510675052321386, 0.9477006540891831, 0.9417920957356924, 0.9304604236210131, 0.9646811182709615, 0.06589984295069358, 0.8566979583590164, 0.2616869780108197, 0.7269082722522769, 0.8783722986970892, 0.8783680671506803, 0.2968389166922137, 0.24145852178694996, 0.1284825161802119, 0.12626730038400136, 0.20823028484379172, 0.5559082250628774, 0.10085060720167244, 0.23121846529163925, 0.07379312722073593, 0.036896563610367965, 0.14056850463806775, 0.7731267755093726, 0.18889982012638162, 0.7839342535244836, 0.01888998201263816, 0.9024660403264857, 0.9022360200505939, 0.9569566605875923, 0.010371809012285519, 0.8297447209828415, 0.08297447209828415, 0.08297447209828415, 0.9035606008291043, 0.023475352536154348, 0.08216373387654022, 0.7159982523527075, 0.10563908641269457, 0.07042605760846304, 0.14996855322827873, 0.8498218016269129, 0.20229871345652892, 0.7586201754619835, 0.030344807018479338, 0.6497366654714029, 0.27764909832644247, 0.05477431191474035, 0.016998924387333213, 0.3266309969455084, 0.1147622421700435, 0.467876833462485, 0.08827864782311037, 0.8022405792056655, 0.1604481158411331, 0.9616414990534324, 0.0811421483254599, 0.892563631580059, 0.060644340416590885, 0.20345198075243395, 0.44016053528170807, 0.15454525461002194, 0.1388951022444501, 0.915745509315647, 0.8119402164987043, 0.06628083399989423, 0.04142552124993389, 0.03314041699994712, 0.04142552124993389, 0.9465744010402942, 0.902456343341743, 0.8284961060715252, 0.09058727355679548, 0.06605322030183003, 0.0056617045972997175, 0.009436174328832862, 0.16206628154843147, 0.8103314077421573, 0.13231967680494106, 0.24407152819978764, 0.032222926475814664, 0.32839961238117493, 0.26258257106887267, 0.3016097721754371, 0.5443688570971305, 0.13241404632092363, 0.014712671813435958, 0.007356335906717979, 0.07061770654967325, 0.1235809864619282, 0.05296327991225494, 0.7503131320902783, 0.21792913331285424, 0.09339819999122324, 0.6849201332689705, 0.06998854357046347, 0.12831232987918303, 0.34994271785231734, 0.45492553320801254, 0.937149073175633, 0.9489080366383605, 0.3866350307651189, 0.13106272229326063, 0.24901917235719523, 0.21297692372654853, 0.019659408343989097, 0.8190015801830588, 0.11700022574043697, 0.11409261416516107, 0.8214668219891597, 0.05704630708258054, 0.025550579120536508, 0.8687196900982413, 0.10220231648214603, 0.9657042114914285, 0.9572615815475997, 0.9134189646048654, 0.16706540216464846, 0.5373184556106261, 0.031606967977095654, 0.18964180786257392, 0.07675977937294659, 0.965447904039096, 0.04681886386609648, 0.8427395495897366, 0.04681886386609648, 0.8971272959836827, 0.915706553305524, 0.9302143043295218, 0.2756001971703101, 0.721424045534047, 0.8575200483755718, 0.8494182874783137, 0.10295979242161378, 0.038609922158105166, 0.06685072337804648, 0.6685072337804648, 0.013370144675609298, 0.1671268084451162, 0.08690594039146043, 0.2409856900810992, 0.30251395137840115, 0.36916956778381155, 0.09229239194595289, 0.8773398546503475, 0.8971300216481621, 0.877337090824262, 0.9178846511056684, 0.00908796684263038, 0.00908796684263038, 0.05452780105578228, 0.8850152454753993, 0.021852228283343194, 0.03642038047223866, 0.05463057070835799, 0.6544947197950742, 0.25172873838272086, 0.07107634966100354, 0.020730601984459366, 0.9646683503536567, 0.08110084705783999, 0.8110084705783999, 0.3762208123415268, 0.19601420474936693, 0.19601420474936693, 0.12171849811049397, 0.11223393981616976, 0.3326635255015831, 0.6303098377924733, 0.03501721321069296, 0.9918786079242519, 0.005869104188900898, 0.9053234596310762, 0.0823021326937342, 0.955222162615405, 0.020125913663981015, 0.2616368776317532, 0.04025182732796203, 0.6641551509113734, 0.9418007233023797, 0.06594689081494677, 0.05275751265195742, 0.1714619161188616, 0.7122264208014252, 0.18365972821835247, 0.2031979971777517, 0.36536562954076507, 0.2129671316574513, 0.03516888412691856, 0.8376953725769207, 0.15706788235817262, 0.10503523575193152, 0.7177407776381987, 0.1925645988785411, 0.7743781778471145, 0.18008794833653827, 0.04051978837572111, 0.0851022462070847, 0.2155923570579479, 0.23828628937983715, 0.45955212951825736, 0.002354932787704351, 0.14129596726226107, 0.8148067445457055, 0.04238879017867832, 0.5688902286551847, 0.4230671004239507, 0.007201142134875756, 0.41349881928228194, 0.5531217972217538, 0.03222068721680119, 0.9777607584072587, 0.019171779576612917, 0.1908149817346412, 0.06071385782465857, 0.33609457010078847, 0.4119868923816117, 0.8971269981577991, 0.1904977793363142, 0.48038570441331413, 0.17117191766451423, 0.06073842239708569, 0.09939014574068568, 0.015474013586155053, 0.27853224455079095, 0.030948027172310107, 0.6808565977908224, 0.12406183649835106, 0.8529251259261635, 0.8562441668802084, 0.15062814640107974, 0.8535594962727853, 0.8783752646718039, 0.8815066806760897, 0.8421659183845618, 0.8093406182414536, 0.16554694464029734, 0.9665459341657175, 0.9302292989051881, 0.18727627105538655, 0.3433398302682087, 0.32327451551227443, 0.07580230018908504, 0.06911386193710695, 0.9435455208184415, 0.3304540700935717, 0.22238104088057967, 0.03117491227297846, 0.3075924677600541, 0.108073029212992, 0.10322809292146978, 0.17778171558697572, 0.5677545110680837, 0.07455362266550596, 0.07455362266550596, 0.8783749005123077, 0.7407964321796113, 0.2168184679550082, 0.0361364113258347, 0.8994703151918776, 0.01864587888239793, 0.0279688183235969, 0.01864587888239793, 0.47546991150114726, 0.4568240326187493, 0.07155459596722234, 0.20273802190712994, 0.15503495792898173, 0.047703063978148226, 0.5128079377650934, 0.13225140554727693, 0.3051955512629468, 0.33571510638924146, 0.12886034386657752, 0.09834078874028285, 0.8898039463988703, 0.1046828172233965, 0.8901155034252796, 0.028108910634482513, 0.08164969279540159, 0.0013385195540229768, 0.07096916082955833, 0.21290748248867497, 0.5161393514876969, 0.12258309597832802, 0.07096916082955833, 0.9634194278973499, 0.7884735541327423, 0.19711838853318558, 0.1635165364248352, 0.14427929684544283, 0.46169374990541706, 0.24046549474240472, 0.04257417709416909, 0.3916824292663556, 0.37891017613810485, 0.18732637921434397, 0.052341203616204125, 0.6477223947505261, 0.297690595567161, 0.017082501624825365, 0.41852128980822145, 0.025623752437238047, 0.04270625406206341, 0.4953925471199356, 0.8609917872142485, 0.0116350241515439, 0.11635024151543899, 0.9027430989675211, 0.5355840782270527, 0.08996138813970027, 0.18829127750169822, 0.11715901711216778, 0.06904013508395601, 0.49430186512988317, 0.5002573092880745, 0.9417983624416362, 0.055383865147154765, 0.055383865147154765, 0.7753741120601667, 0.11076773029430953, 0.6207374707132088, 0.14908541873024667, 0.19245572236086386, 0.03794901567679006, 0.158342359312259, 0.05278078643741967, 0.7389310101238754, 0.10586394477055014, 0.3822864672269866, 0.458743760672384, 0.05293197238527507, 0.9646727839232871, 0.897133769116871, 0.014057988012265297, 0.014057988012265297, 0.9559431848340402, 0.9642569990261849, 0.9512743813689166, 0.9074367600470128, 0.9657812436660809, 0.9024600478879996, 0.15579167264372107, 0.05193055754790702, 0.017310185849302342, 0.605856504725582, 0.17310185849302342, 0.020022189486025726, 0.17018861063121865, 0.05005547371506431, 0.6106767793237846, 0.15016642114519294, 0.06048184734862268, 0.8467458628807174, 0.19129698315975674, 0.12625600888543945, 0.4246793026146599, 0.17216728484378105, 0.0879966122534881, 0.9874633060262328, 0.11290296784038177, 0.26344025829422413, 0.6021491618153694, 0.7596805609964048, 0.13878779479742012, 0.06574158700930427, 0.036523103894057926, 0.07886275463608974, 0.05257516975739317, 0.814915131239594, 0.05257516975739317, 0.9173519266365936, 0.033975997282836796, 0.8329805371871748, 0.957292744206198, 0.8971126966726043, 0.9913619749148593, 0.0068844581591309675, 0.14026260789208064, 0.7714443434064435, 0.9696332680605408, 0.13372217157807897, 0.7450235273635829, 0.05730950210489099, 0.05730950210489099, 0.0017679441945419394, 0.10607665167251636, 0.8291658272401695, 0.06187804680896788, 0.9463744623077192, 0.15260729641988363, 0.7821123941519036, 0.05722773615745636, 0.019075912052485454, 0.9157613756682139, 0.8413355890318193, 0.14364266154201794, 0.03452952370678655, 0.8977676163764504, 0.0690590474135731, 0.8773401639217617, 0.9359212135672639, 0.2869845137743912, 0.057396902754878236, 0.6149668152308383, 0.03279823014564471, 0.8773444306102793, 0.37553414127755547, 0.2795947621190559, 0.23299563509921323, 0.06578700285154256, 0.04934025213865692, 0.13443622671729258, 0.7618052847313246, 0.10306777381659096, 0.7113686115147201, 0.16335131079226906, 0.09484914820196268, 0.01580819136699378, 0.01580819136699378, 0.8859287669244685, 0.07087430135395749, 0.837277633297839, 0.03805807424081086, 0.11417422272243259, 0.11575105409127083, 0.4051286893194479, 0.47457932177421036, 0.9646782335880868, 0.0036921047759508824, 0.1402999814861335, 0.0036921047759508824, 0.8196472602610959, 0.03322894298355794, 0.1470236525683989, 0.42946382723927046, 0.30952347909136607, 0.11607130465926228, 0.9741570357150768, 0.7668424105520106, 0.07865050364636006, 0.022939730230188353, 0.05571077341617171, 0.07865050364636006, 0.9851872561531558, 0.9213041932865733, 0.9658581246177582, 0.058219485187654144, 0.7277435648456768, 0.04366461389074061, 0.10188409907839475, 0.07277435648456768, 0.18815771031716283, 0.7808544978162257, 0.018815771031716284, 0.8889636838427817, 0.05442634799037439, 0.05442634799037439, 0.9296134191137364, 0.016469474016924408, 0.07502760385487786, 0.8869116748373367, 0.021349318170087197, 0.0006099805191453484, 0.07899663509431719, 0.9084613035846477, 0.8783718939962384, 0.2544703430027515, 0.6907052167217541, 0.04366521582917063, 0.029110143886113753, 0.07277535971528439, 0.8514717086688273, 0.8789781178924607, 0.9414318931218345, 0.021893764956321733, 0.043787529912643466, 0.9691828476584478, 0.1881783108066343, 0.058400165422748576, 0.20115612534502286, 0.42177897249762863, 0.1297781453838857, 0.45013112942287536, 0.24807546270110542, 0.26605194550553335, 0.007190593121771172, 0.028762372487084686, 0.009498427700529066, 0.009498427700529066, 0.009498427700529066, 0.9593411977534357, 0.37928217215283294, 0.03792821721528329, 0.5309950410139661, 0.03792821721528329, 0.21181632219295024, 0.6354489665788507, 0.10590816109647512, 0.044128400456864635, 0.018162757424482968, 0.9626261434975973, 0.9778535943567652, 0.5712036035796235, 0.2764381076147376, 0.06720042395054394, 0.013745541262611261, 0.07025498867556866, 0.10459423674640612, 0.08965220292549096, 0.3162730492093709, 0.42584796389608204, 0.062258474253813166, 0.8817211738147482, 0.11716275478317617, 0.8201392834822332, 0.8773338682059201, 0.09546901068152348, 0.05207400582628553, 0.781110087394283, 0.017358001942095178, 0.05207400582628553, 0.9803967740674879, 0.015561853556626792, 0.12721260481989874, 0.8124259535088987, 0.06071510684586076, 0.8488632529148921, 0.02984627776536332, 0.06320388232665174, 0.005266990193887645, 0.05266990193887645, 0.8783746045167153, 0.055472381658266484, 0.8875581065322637, 0.3555785465114023, 0.2641215367656758, 0.17266452701994925, 0.08909174225230257, 0.1190517971690061, 0.021565170271773973, 0.5822595973378972, 0.021565170271773973, 0.007188390090591325, 0.3666078946201575, 0.9954588025317811, 0.8773219832971201, 0.2066297498556621, 0.26132586011157266, 0.1883977131036919, 0.2509075533961611, 0.09376476043870381, 0.15352010134719124, 0.5099989807466014, 0.14831603011508307, 0.17173435065956988, 0.018214249312378625, 0.9220287661479114, 0.018816913594855333, 0.056450740784566, 0.04456139505066591, 0.9135085985386512, 0.04456139505066591, 0.16264678052498363, 0.6200908507515001, 0.18297762809060658, 0.04066169513124591, 0.13252754310963827, 0.5212750028979105, 0.18995614512381484, 0.10602203448771061, 0.04859343247353403, 0.9787709758604868, 0.8814763665816472, 0.05550397081342778, 0.777055591387989, 0.11100794162685557, 0.9273635691978452, 0.07005264371638399, 0.8783764501625609, 0.9614981905908005, 0.9337450939245958, 0.9817086124715814, 0.9669289584651075, 0.7440458767164602, 0.11423110970335695, 0.10496912783551719, 0.03704792747135901, 0.5228311823731384, 0.13623774079146203, 0.19756986026215712, 0.1075825702190881, 0.03619600493352497, 0.9756375003768353, 0.05272630850764208, 0.9490735531375575], \"Term\": [\"00\", \"11\", \"11\", \"11\", \"2013\", \"2016\", \"2017\", \"2017\", \"2017\", \"2017\", \"2019\", \"2019\", \"2019\", \"2019\", \"210\", \"22\", \"42000\", \"50\", \"50\", \"6s\", \"abandon\", \"abl\", \"abl\", \"abl\", \"abl\", \"abl\", \"ac\", \"account\", \"account\", \"account\", \"accur\", \"accur\", \"adjust\", \"advisor\", \"agreement\", \"alarm\", \"alexa\", \"allow\", \"allow\", \"allow\", \"allow\", \"allow\", \"amaz\", \"amaz\", \"amaz\", \"amaz\", \"anoth\", \"anoth\", \"anoth\", \"anoth\", \"anoth\", \"anymor\", \"anymor\", \"anymor\", \"ap\", \"app\", \"app\", \"app\", \"app\", \"app\", \"appl\", \"appl\", \"appl\", \"appli\", \"applic\", \"applic\", \"applic\", \"applic\", \"approv\", \"august\", \"august\", \"author\", \"author\", \"author\", \"author\", \"auto\", \"auto\", \"auto\", \"auto\", \"autostart\", \"awesom\", \"awesom\", \"awesom\", \"awesom\", \"bank\", \"becaus\", \"becaus\", \"becaus\", \"becaus\", \"becaus\", \"began\", \"benefit\", \"best\", \"best\", \"best\", \"best\", \"billion\", \"blame\", \"bluetooth\", \"bonus\", \"bonus\", \"bought\", \"bought\", \"bought\", \"bought\", \"bought\", \"browser\", \"button\", \"button\", \"button\", \"ca\", \"ca\", \"ca\", \"car\", \"car\", \"car\", \"car\", \"car\", \"carplay\", \"carplay\", \"chat\", \"chat\", \"chat\", \"chat\", \"check\", \"check\", \"check\", \"check\", \"check\", \"clean\", \"climat\", \"clock\", \"close\", \"close\", \"close\", \"close\", \"clueless\", \"code\", \"code\", \"code\", \"coffe\", \"cold\", \"complex\", \"complex\", \"connect\", \"connect\", \"connect\", \"connect\", \"connect\", \"constant\", \"constant\", \"constant\", \"constant\", \"contact\", \"contact\", \"contact\", \"contact\", \"control\", \"control\", \"control\", \"control\", \"control\", \"cool\", \"cool\", \"cool\", \"cool\", \"cool\", \"cost\", \"cost\", \"count\", \"crash\", \"crash\", \"credit\", \"credit\", \"credit\", \"custom\", \"custom\", \"custom\", \"custom\", \"day\", \"day\", \"day\", \"day\", \"day\", \"dealer\", \"dealer\", \"dealer\", \"dealer\", \"dealership\", \"dealership\", \"dealership\", \"dealership\", \"dealership\", \"defrost\", \"delet\", \"delet\", \"delet\", \"delet\", \"depart\", \"depend\", \"destin\", \"details\", \"diesel\", \"diesel\", \"disabl\", \"disabl\", \"discontinu\", \"dodg\", \"doe\", \"doe\", \"doe\", \"doe\", \"doe\", \"doesn\", \"doesn\", \"doesn\", \"doesn\", \"doesn\", \"dollar\", \"dollar\", \"door\", \"door\", \"door\", \"driven\", \"duti\", \"eas\", \"email\", \"email\", \"email\", \"email\", \"energi\", \"engin\", \"engin\", \"engin\", \"engin\", \"engin\", \"ent\", \"ent\", \"enter\", \"enter\", \"enter\", \"everi\", \"everi\", \"everi\", \"everi\", \"everyth\", \"everyth\", \"everyth\", \"everyth\", \"execut\", \"execut\", \"expedit\", \"explain\", \"explain\", \"featur\", \"featur\", \"featur\", \"featur\", \"featur\", \"fee\", \"fine\", \"fine\", \"fine\", \"fine\", \"fine\", \"fingerprint\", \"fingertip\", \"fix\", \"fix\", \"fix\", \"fix\", \"fix\", \"flex\", \"flex\", \"ford\", \"ford\", \"ford\", \"ford\", \"ford\", \"frustrat\", \"frustrat\", \"frustrat\", \"frustrat\", \"frustrat\", \"fuel\", \"fuel\", \"fuel\", \"fuel\", \"garbag\", \"garbag\", \"garbag\", \"gas\", \"gas\", \"gas\", \"gas\", \"generat\", \"gon\", \"great\", \"great\", \"great\", \"great\", \"great\", \"gt\", \"gt\", \"guid\", \"guid\", \"guid\", \"happi\", \"happi\", \"happi\", \"health\", \"heat\", \"heater\", \"help\", \"help\", \"help\", \"help\", \"help\", \"histori\", \"hous\", \"hous\", \"hous\", \"hung\", \"hurri\", \"husband\", \"id\", \"id\", \"imag\", \"immedi\", \"immedi\", \"immedi\", \"info\", \"info\", \"info\", \"info\", \"info\", \"inform\", \"inform\", \"inform\", \"inform\", \"infotain\", \"invalid\", \"involv\", \"io\", \"io\", \"io\", \"io\", \"iphon\", \"iphon\", \"iphon\", \"iphon\", \"issu\", \"issu\", \"issu\", \"issu\", \"issues\", \"joke\", \"joke\", \"just\", \"just\", \"just\", \"just\", \"just\", \"key\", \"key\", \"key\", \"latest\", \"latest\", \"launch\", \"launch\", \"learn\", \"level\", \"level\", \"level\", \"level\", \"licens\", \"life\", \"life\", \"life\", \"life\", \"like\", \"like\", \"like\", \"like\", \"like\", \"line\", \"line\", \"link\", \"link\", \"link\", \"load\", \"load\", \"load\", \"locat\", \"locat\", \"locat\", \"locat\", \"lock\", \"lock\", \"lock\", \"lock\", \"log\", \"log\", \"log\", \"login\", \"login\", \"login\", \"logo\", \"logo\", \"love\", \"love\", \"love\", \"love\", \"maintenance\", \"make\", \"make\", \"make\", \"make\", \"make\", \"manag\", \"manag\", \"manag\", \"manag\", \"map\", \"map\", \"march\", \"market\", \"market\", \"mexico\", \"mi\", \"mike\", \"morn\", \"morn\", \"na\", \"necessari\", \"need\", \"need\", \"need\", \"need\", \"need\", \"network\", \"new\", \"new\", \"new\", \"new\", \"new\", \"nice\", \"nice\", \"nice\", \"nice\", \"nice\", \"north\", \"number\", \"number\", \"number\", \"offlin\", \"oil\", \"oil\", \"oil\", \"oil\", \"oil\", \"old\", \"old\", \"old\", \"old\", \"old\", \"onli\", \"onli\", \"onli\", \"onli\", \"onli\", \"onstar\", \"onstar\", \"open\", \"open\", \"open\", \"open\", \"option\", \"option\", \"option\", \"option\", \"option\", \"outsid\", \"paid\", \"paid\", \"park\", \"park\", \"park\", \"park\", \"pass\", \"pass\", \"pass\", \"pass\", \"password\", \"password\", \"password\", \"pay\", \"pay\", \"pay\", \"pay\", \"pay\", \"payment\", \"payment\", \"payment\", \"perk\", \"phone\", \"phone\", \"phone\", \"phone\", \"phone\", \"pin\", \"pin\", \"plate\", \"platinum\", \"platinum\", \"platinum\", \"platinum\", \"pleas\", \"pleas\", \"pleas\", \"pleas\", \"plug\", \"plug\", \"plug\", \"point\", \"point\", \"point\", \"point\", \"polici\", \"practic\", \"pressur\", \"pressur\", \"pressur\", \"price\", \"print\", \"privaci\", \"pro\", \"profession\", \"provid\", \"provid\", \"provid\", \"provid\", \"provid\", \"purchas\", \"purchas\", \"purchas\", \"purchas\", \"purchas\", \"quicker\", \"quicker\", \"realli\", \"realli\", \"realli\", \"realli\", \"realli\", \"reboot\", \"recal\", \"recal\", \"recal\", \"recent\", \"recent\", \"recent\", \"recent\", \"recommend\", \"recommend\", \"recommend\", \"recommend\", \"record\", \"record\", \"recreat\", \"redeem\", \"reenter\", \"reinstal\", \"reinstal\", \"relat\", \"relat\", \"reload\", \"rememb\", \"rememb\", \"rememb\", \"rememb\", \"remot\", \"remot\", \"remot\", \"remot\", \"reopen\", \"report\", \"report\", \"report\", \"report\", \"repres\", \"restart\", \"restart\", \"reward\", \"reward\", \"reward\", \"ring\", \"road\", \"run\", \"run\", \"run\", \"run\", \"saturday\", \"say\", \"say\", \"say\", \"say\", \"say\", \"schedul\", \"schedul\", \"schedul\", \"screen\", \"screen\", \"screen\", \"screen\", \"screen\", \"seat\", \"seat\", \"secur\", \"secur\", \"secur\", \"send\", \"send\", \"send\", \"seri\", \"servic\", \"servic\", \"servic\", \"servic\", \"servic\", \"set\", \"set\", \"set\", \"set\", \"shortcut\", \"sinc\", \"sinc\", \"sinc\", \"sinc\", \"sinc\", \"siri\", \"sleep\", \"solut\", \"someon\", \"someon\", \"someon\", \"someon\", \"someon\", \"sometim\", \"sometim\", \"sometim\", \"soon\", \"soon\", \"soon\", \"stabl\", \"start\", \"start\", \"start\", \"start\", \"start\", \"starter\", \"starter\", \"statement\", \"station\", \"station\", \"sync\", \"sync\", \"sync\", \"sync\", \"sync3\", \"technic\", \"technic\", \"technic\", \"temperatur\", \"thank\", \"thank\", \"thank\", \"thank\", \"thank\", \"time\", \"time\", \"time\", \"time\", \"time\", \"tire\", \"tire\", \"tire\", \"tire\", \"told\", \"told\", \"told\", \"told\", \"touch\", \"touch\", \"touch\", \"touch\", \"track\", \"track\", \"travel\", \"tri\", \"tri\", \"tri\", \"tri\", \"tri\", \"truck\", \"truck\", \"truck\", \"truck\", \"truck\", \"trunk\", \"trust\", \"trust\", \"turbo\", \"turn\", \"turn\", \"turn\", \"turn\", \"turn\", \"uninstal\", \"uninstal\", \"unlock\", \"unlock\", \"unlock\", \"updat\", \"updat\", \"updat\", \"updat\", \"updat\", \"usa\", \"usb\", \"usb\", \"use\", \"use\", \"use\", \"use\", \"use\", \"user\", \"user\", \"user\", \"user\", \"user\", \"usernam\", \"valuabl\", \"vehicl\", \"vehicl\", \"vehicl\", \"vehicl\", \"vehicl\", \"veri\", \"veri\", \"veri\", \"veri\", \"veri\", \"version\", \"version\", \"version\", \"vin\", \"vin\", \"vin\", \"wait\", \"wait\", \"wait\", \"wait\", \"want\", \"want\", \"want\", \"want\", \"want\", \"warm\", \"warmer\", \"warn\", \"warn\", \"warn\", \"watch\", \"watch\", \"waze\", \"weather\", \"wheel\", \"window\", \"winter\", \"won\", \"won\", \"won\", \"won\", \"work\", \"work\", \"work\", \"work\", \"work\", \"xs\", \"zoom\", \"zoom\"]}, \"R\": 30, \"lambda.step\": 0.01, \"plot.opts\": {\"xlab\": \"PC1\", \"ylab\": \"PC2\"}, \"topic.order\": [2, 3, 4, 5, 1]};\n",
       "\n",
       "function LDAvis_load_lib(url, callback){\n",
       "  var s = document.createElement('script');\n",
       "  s.src = url;\n",
       "  s.async = true;\n",
       "  s.onreadystatechange = s.onload = callback;\n",
       "  s.onerror = function(){console.warn(\"failed to load library \" + url);};\n",
       "  document.getElementsByTagName(\"head\")[0].appendChild(s);\n",
       "}\n",
       "\n",
       "if(typeof(LDAvis) !== \"undefined\"){\n",
       "   // already loaded: just create the visualization\n",
       "   !function(LDAvis){\n",
       "       new LDAvis(\"#\" + \"ldavis_el8840151301752411270630197\", ldavis_el8840151301752411270630197_data);\n",
       "   }(LDAvis);\n",
       "}else if(typeof define === \"function\" && define.amd){\n",
       "   // require.js is available: use it to load d3/LDAvis\n",
       "   require.config({paths: {d3: \"https://cdnjs.cloudflare.com/ajax/libs/d3/3.5.5/d3.min\"}});\n",
       "   require([\"d3\"], function(d3){\n",
       "      window.d3 = d3;\n",
       "      LDAvis_load_lib(\"https://cdn.rawgit.com/bmabey/pyLDAvis/files/ldavis.v1.0.0.js\", function(){\n",
       "        new LDAvis(\"#\" + \"ldavis_el8840151301752411270630197\", ldavis_el8840151301752411270630197_data);\n",
       "      });\n",
       "    });\n",
       "}else{\n",
       "    // require.js not available: dynamically load d3 & LDAvis\n",
       "    LDAvis_load_lib(\"https://cdnjs.cloudflare.com/ajax/libs/d3/3.5.5/d3.min.js\", function(){\n",
       "         LDAvis_load_lib(\"https://cdn.rawgit.com/bmabey/pyLDAvis/files/ldavis.v1.0.0.js\", function(){\n",
       "                 new LDAvis(\"#\" + \"ldavis_el8840151301752411270630197\", ldavis_el8840151301752411270630197_data);\n",
       "            })\n",
       "         });\n",
       "}\n",
       "</script>"
      ],
      "text/plain": [
       "<IPython.core.display.HTML object>"
      ]
     },
     "execution_count": 12,
     "metadata": {},
     "output_type": "execute_result"
    }
   ],
   "source": [
    "import pyLDAvis\n",
    "import pyLDAvis.sklearn\n",
    "vis = pyLDAvis.sklearn.prepare(lda, count_data, count_vectorizer)\n",
    "pyLDAvis.enable_notebook()\n",
    "pyLDAvis.display(vis)"
   ]
  },
  {
   "cell_type": "code",
   "execution_count": null,
   "metadata": {},
   "outputs": [],
   "source": []
  }
 ],
 "metadata": {
  "colab": {
   "collapsed_sections": [],
   "name": "LDA.ipynb",
   "provenance": []
  },
  "kernelspec": {
   "display_name": "Python 3",
   "language": "python",
   "name": "python3"
  },
  "language_info": {
   "codemirror_mode": {
    "name": "ipython",
    "version": 3
   },
   "file_extension": ".py",
   "mimetype": "text/x-python",
   "name": "python",
   "nbconvert_exporter": "python",
   "pygments_lexer": "ipython3",
   "version": "3.8.2"
  }
 },
 "nbformat": 4,
 "nbformat_minor": 4
}
